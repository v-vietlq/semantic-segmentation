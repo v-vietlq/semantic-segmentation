{
 "metadata": {
  "language_info": {
   "codemirror_mode": {
    "name": "ipython",
    "version": 3
   },
   "file_extension": ".py",
   "mimetype": "text/x-python",
   "name": "python",
   "nbconvert_exporter": "python",
   "pygments_lexer": "ipython3",
   "version": "3.8.3"
  },
  "orig_nbformat": 2,
  "kernelspec": {
   "name": "python383jvsc74a57bd03b7ace9d27dc1c502e3dae86da5e8433e0698b131550d06efd3a9ab1da013269",
   "display_name": "Python 3.8.3 64-bit ('base': conda)"
  }
 },
 "nbformat": 4,
 "nbformat_minor": 2,
 "cells": [
  {
   "cell_type": "code",
   "execution_count": null,
   "metadata": {},
   "outputs": [],
   "source": [
    "from train import train_per_epoch, get_data_loader, validate_model\n",
    "from torchvision import transforms\n",
    "import torchvision\n",
    "from PIL import Image\n",
    "import segmentation_models_pytorch as smp\n",
    "from utils.loss import CrossEntropyLoss2d\n",
    "import cv2\n",
    "import numpy as np\n",
    "import torch"
   ]
  },
  {
   "cell_type": "code",
   "execution_count": null,
   "metadata": {},
   "outputs": [],
   "source": [
    "transform = transforms.Compose([\n",
    "        transforms.ToPILImage(),\n",
    "        transforms.Resize((512, 1024),interpolation=Image.NEAREST),\n",
    "])"
   ]
  },
  {
   "cell_type": "code",
   "execution_count": null,
   "metadata": {},
   "outputs": [],
   "source": [
    "net = smp.Unet(encoder_name=\"mobilenet_v2\",classes= 19, encoder_weights='imagenet')"
   ]
  },
  {
   "cell_type": "code",
   "execution_count": null,
   "metadata": {},
   "outputs": [],
   "source": [
    "torch.backends.cudnn.benchmark = True\n",
    "np.random.seed(50)\n",
    "torch.manual_seed(50)\n",
    "\n",
    "if torch.cuda.is_available():\n",
    "    torch.cuda.manual_seed(50)\n",
    "\n",
    "device = torch.device(\"cuda:0\" if torch.cuda.is_available() else \"cpu\")"
   ]
  },
  {
   "cell_type": "code",
   "execution_count": null,
   "metadata": {},
   "outputs": [],
   "source": [
    "num_epochs = 50\n",
    "max_acc = 0\n",
    "patience = 10\n",
    "not_improved_count = 0\n",
    "batch_size = 4"
   ]
  },
  {
   "cell_type": "code",
   "execution_count": null,
   "metadata": {
    "tags": []
   },
   "outputs": [],
   "source": [
    "\n",
    "train_loader = get_data_loader(datapth='datasets/cityscapes',annpath='datasets/cityscapes/train.txt',ims_per_gpu=batch_size,trans_func=transform,mode='train')\n",
    "val_loader = get_data_loader(datapth='datasets/cityscapes',annpath='datasets/cityscapes/val.txt',ims_per_gpu=batch_size,trans_func=transform,mode='val')\n",
    "# val_loader = DataLoader(val_dataset, batch_size=batch_size,\n",
    "#                             shuffle=True, num_workers=6)"
   ]
  },
  {
   "cell_type": "code",
   "execution_count": null,
   "metadata": {},
   "outputs": [],
   "source": [
    "criterion = CrossEntropyLoss2d()\n",
    "optimizer = torch.optim.Adam(net.parameters(),5e-4,(0.9, 0.999), eps=1e-08, weight_decay=1e-4)\n",
    "\n",
    "for epoch in range(num_epochs):\n",
    "    train_iou = train_per_epoch(net, criterion, optimizer, train_loader, device)\n",
    "    val_iou= validate_model(net, criterion, val_loader, device)\n",
    "\n",
    "    print('Epoch: {}'.format(epoch))\n",
    "    print('Train_iou: {:.4f}'.format(train_iou))\n",
    "    print('Valid_iou: {:.4f}'.format(val_iou))\n",
    "\n",
    "    if val_acc > max_acc:\n",
    "        torch.save(net.state_dict(), '/content/drive/MyDrive/checkpoints/UnetMobilenetv2_epoch_' + str(epoch) + '_acc_{0:.4f}'.format(val_acc)+'.pt')\n",
    "        max_acc = val_acc\n",
    "        not_improved_count = 0\n",
    "    else:\n",
    "        not_improved_count+=1\n",
    "    \n",
    "    if not_improved_count >=patience:\n",
    "        break\n"
   ]
  },
  {
   "cell_type": "code",
   "execution_count": null,
   "metadata": {},
   "outputs": [],
   "source": [
    "# def get_filepaths(directory):\n",
    "#     \"\"\"\n",
    "#     This function will generate the file names in a directory \n",
    "#     tree by walking the tree either top-down or bottom-up. For each \n",
    "#     directory in the tree rooted at directory top (including top itself), \n",
    "#     it yields a 3-tuple (dirpath, dirnames, filenames).\n",
    "#     \"\"\"\n",
    "#     file_paths = []  # List which will store all of the full filepaths.\n",
    "\n",
    "#     # Walk the tree.\n",
    "#     for root, directories, files in os.walk(directory):\n",
    "#         for filename in files:\n",
    "#             # Join the two strings in order to form the full filepath.\n",
    "#             filepath = os.path.join(root, filename).replace('\\\\','/')\n",
    "#             file_paths.append(filepath)  # Add it to the list.\n",
    "\n",
    "#     return file_paths  # Self-explanatory.\n",
    "\n",
    "# # Run the above function and store its results in a variable.   \n",
    "# full_file_paths = get_filepaths(\"datasets/cityscapes/gtFine\")"
   ]
  },
  {
   "cell_type": "code",
   "execution_count": null,
   "metadata": {
    "tags": []
   },
   "outputs": [],
   "source": [
    "# full_file_paths0 = get_filepaths(\"datasets/cityscapes/leftImg8bit\")\n",
    "# full_file_paths1 = get_filepaths(\"datasets/cityscapes/gtFine\")"
   ]
  },
  {
   "cell_type": "code",
   "execution_count": null,
   "metadata": {},
   "outputs": [],
   "source": []
  }
 ]
}